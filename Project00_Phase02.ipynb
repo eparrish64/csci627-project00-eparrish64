{
 "cells": [
  {
   "cell_type": "code",
   "execution_count": 1,
   "metadata": {},
   "outputs": [],
   "source": [
    "import pandas as pd\n",
    "import matplotlib.pyplot as plt\n",
    "from matplotlib import style\n",
    "import glob\n",
    "import numpy as np\n",
    "style.use('ggplot')"
   ]
  },
  {
   "cell_type": "markdown",
   "metadata": {},
   "source": [
    "Data Massaging! Ignoring student 15 for now. "
   ]
  },
  {
   "cell_type": "markdown",
   "metadata": {},
   "source": [
    "This section of code I used interactively to make the datafiles be consistent with the bare minimum being columns including building, time in, time out, and the reason."
   ]
  },
  {
   "cell_type": "code",
   "execution_count": null,
   "metadata": {},
   "outputs": [],
   "source": [
    "all_files = glob.glob(\"Data/*.csv\")\n",
    "all_files.sort()\n",
    "df_from_each_file = [pd.read_csv(f) for f in all_files]\n"
   ]
  },
  {
   "cell_type": "code",
   "execution_count": null,
   "metadata": {},
   "outputs": [],
   "source": [
    "print(len(df_from_each_file))"
   ]
  },
  {
   "cell_type": "code",
   "execution_count": null,
   "metadata": {
    "scrolled": true
   },
   "outputs": [],
   "source": [
    "current_file = 26 -1\n",
    "df = df_from_each_file[current_file]\n",
    "# df = pd.read_csv(\"Data/25grad_CS_1.csv\",header=None,usecols=[0,1,4,5,6])\n",
    "# df[\"Time_In\"] = pd.to_datetime(df[\"Day\"]+\" \" +df[\"Time-In\"])\n",
    "# df[\"Time_Out\"] = pd.to_datetime(df[\"Day\"]+\" \" +df[\"Time-Out\"])\n",
    "# df[\"Time_Diff\"] = (df.Time_Out - df.Time_In).astype(\"timedelta64[m]\")\n",
    "# df.Reason = df.Reason.str.lower()\n",
    "print(all_files[current_file])"
   ]
  },
  {
   "cell_type": "code",
   "execution_count": null,
   "metadata": {},
   "outputs": [],
   "source": [
    "df.head(100)"
   ]
  },
  {
   "cell_type": "code",
   "execution_count": null,
   "metadata": {},
   "outputs": [],
   "source": [
    "df.columns = [\"Date\",\"Buliding\",\"In\",\"Out\",\"Reason\"]"
   ]
  },
  {
   "cell_type": "code",
   "execution_count": null,
   "metadata": {},
   "outputs": [],
   "source": [
    "# df.dropna(inplace=True)\n",
    "# df = df.drop(df[df.BUILDING==\"None\"].index)\n",
    "df.loc[df[\"Day\"] == \"Sunday\", 'Day'] = \"2/3/2019\"\n",
    "df.loc[df[\"Day\"] == \"Monday\", 'Day'] = \"2/4/2019\"\n",
    "df.loc[df[\"Day\"] == \"Tuesday\",\"Day\"] = \"2/5/2019\"\n",
    "df.loc[df[\"Day\"] == \"Wednesday\",\"Day\"] = \"2/6/2019\"\n",
    "df.loc[df[\"Day\"] == \"Thursday\",\"Day\"] = \"2/7/2019\"\n",
    "df.loc[df[\"Day\"] == \"Friday\", 'Day'] = \"2/8/2019\"\n",
    "df.loc[df[\"Day\"] == 'Saturday', 'Day'] = \"2/9/2019\"\n",
    "\n",
    "# df.loc[df.Day == \"2/3\",\"Day\"] = \"2/3/2019\"\n",
    "# df.loc[df.Day == \"2/4\",\"Day\"] = \"2/4/2019\"\n",
    "# df.loc[df.Day == \"2/5\",\"Day\"] = \"2/5/2019\"\n",
    "# df.loc[df.Day == \"2/6\",\"Day\"] = \"2/6/2019\"\n",
    "# df.loc[df.Day == \"2/7\",\"Day\"] = \"2/7/2019\"\n",
    "# df.loc[df.Day == \"2/8\",\"Day\"] = \"2/8/2019\"\n",
    "# df.loc[df.Day == \"2/9\",\"Day\"] = \"2/9/2019\"\n"
   ]
  },
  {
   "cell_type": "code",
   "execution_count": null,
   "metadata": {},
   "outputs": [],
   "source": [
    "df.loc[df.Action == \"Enter\",\"Time_In\"] = df.Date\n",
    "df.loc[df.Action == \"Exit\",\"Time_Out\"] = df.Date"
   ]
  },
  {
   "cell_type": "code",
   "execution_count": null,
   "metadata": {},
   "outputs": [],
   "source": [
    "df['Out'] = df['Out'].str.replace('.',':')"
   ]
  },
  {
   "cell_type": "code",
   "execution_count": null,
   "metadata": {},
   "outputs": [],
   "source": [
    "df.head(10)\n",
    "# df = df.rename(index=str,columns={\"Reason for visit\":\"Reason\",\"Time Entered\":\"Time_In\",\"Time Left\":\"Time_Out\"})"
   ]
  },
  {
   "cell_type": "code",
   "execution_count": null,
   "metadata": {},
   "outputs": [],
   "source": [
    "df[\"Time_In\"] = pd.to_datetime(df[\"Date\"]+\" \" +df[\"In\"])\n",
    "df[\"Time_Out\"] = pd.to_datetime(df[\"Date\"]+\" \" +df[\"Out\"])\n",
    "# df[\"Time_In\"] = pd.to_datetime(df.Time_In)\n",
    "# df[\"Time_Out\"] = pd.to_datetime(df.Time_Out)\n",
    "df[\"Time_Diff\"] = (df.Time_Out - df.Time_In).astype(\"timedelta64[m]\")"
   ]
  },
  {
   "cell_type": "code",
   "execution_count": null,
   "metadata": {},
   "outputs": [],
   "source": [
    "df.head(100)"
   ]
  },
  {
   "cell_type": "code",
   "execution_count": null,
   "metadata": {},
   "outputs": [],
   "source": [
    "filepath = all_files[current_file].split(\"/\")\n",
    "print(filepath)"
   ]
  },
  {
   "cell_type": "code",
   "execution_count": null,
   "metadata": {},
   "outputs": [],
   "source": [
    "filepath[0] = \"Massaged_Data\""
   ]
  },
  {
   "cell_type": "code",
   "execution_count": null,
   "metadata": {},
   "outputs": [],
   "source": [
    "all_files[current_file] = \"/\".join(filepath)"
   ]
  },
  {
   "cell_type": "code",
   "execution_count": null,
   "metadata": {},
   "outputs": [],
   "source": [
    "all_files[current_file]"
   ]
  },
  {
   "cell_type": "code",
   "execution_count": null,
   "metadata": {},
   "outputs": [],
   "source": [
    "df.to_csv(\"/raid/CS/z1832314/csci627-project00-eparrish64/Data/\"+all_files[current_file]) #Massaged_Data\n",
    "# df.to_csv(\"/raid/CS/z1832314/csci627-project00-eparrish64/Data/Massaged_Data/07grad_CS_1.csv\") #Massaged_Data"
   ]
  },
  {
   "cell_type": "markdown",
   "metadata": {},
   "source": [
    "Here, I combined the files into one massive file."
   ]
  },
  {
   "cell_type": "code",
   "execution_count": null,
   "metadata": {},
   "outputs": [],
   "source": [
    "all_files = glob.glob(\"Data/Massaged_Data/*.csv\")\n",
    "all_files.sort()\n",
    "df_from_each_file = [pd.read_csv(f) for f in all_files]"
   ]
  },
  {
   "cell_type": "code",
   "execution_count": null,
   "metadata": {},
   "outputs": [],
   "source": [
    "for df in df_from_each_file:\n",
    "    df.columns = [c.lower() for c in df.columns]"
   ]
  },
  {
   "cell_type": "code",
   "execution_count": null,
   "metadata": {},
   "outputs": [],
   "source": [
    "for df in range(len(df_from_each_file)):\n",
    "#     df = df[[\"Building\",\"Reason\",\"Time_Diff\"]]\n",
    "    try:\n",
    "        df_from_each_file[df] = df_from_each_file[df][[\"building\",\"reason\",\"time_diff\"]]\n",
    "    except:\n",
    "        print(all_files[df])"
   ]
  },
  {
   "cell_type": "code",
   "execution_count": null,
   "metadata": {},
   "outputs": [],
   "source": [
    "frame = pd.concat(df_from_each_file, axis = 0, ignore_index = True)"
   ]
  },
  {
   "cell_type": "code",
   "execution_count": null,
   "metadata": {},
   "outputs": [],
   "source": [
    "frame.head()"
   ]
  },
  {
   "cell_type": "code",
   "execution_count": null,
   "metadata": {},
   "outputs": [],
   "source": [
    "frame.describe()"
   ]
  },
  {
   "cell_type": "code",
   "execution_count": null,
   "metadata": {},
   "outputs": [],
   "source": [
    "frame.to_csv(\"Data/Massaged_Data/CombinedData.csv\")"
   ]
  },
  {
   "cell_type": "markdown",
   "metadata": {},
   "source": [
    "This started the effort to make the building naming consistent"
   ]
  },
  {
   "cell_type": "code",
   "execution_count": null,
   "metadata": {},
   "outputs": [],
   "source": [
    "frame = pd.read_csv(\"Data/Massaged_Data/CombinedData.csv\")"
   ]
  },
  {
   "cell_type": "code",
   "execution_count": null,
   "metadata": {},
   "outputs": [],
   "source": [
    "frame.head()"
   ]
  },
  {
   "cell_type": "code",
   "execution_count": null,
   "metadata": {},
   "outputs": [],
   "source": [
    "frame = frame[[\"building\",\"reason\",\"time_diff\"]]"
   ]
  },
  {
   "cell_type": "code",
   "execution_count": null,
   "metadata": {},
   "outputs": [],
   "source": [
    "frame.describe()"
   ]
  },
  {
   "cell_type": "code",
   "execution_count": null,
   "metadata": {},
   "outputs": [],
   "source": [
    "buildings = frame.building.unique()"
   ]
  },
  {
   "cell_type": "code",
   "execution_count": null,
   "metadata": {},
   "outputs": [],
   "source": [
    "buildings = buildings.astype(\"str\")"
   ]
  },
  {
   "cell_type": "code",
   "execution_count": null,
   "metadata": {},
   "outputs": [],
   "source": [
    "# buildings = np.char.replace(buildings,\"-\",\" \")\n",
    "# buildings = np.char.replace(buildings,\"/\",\" \")\n",
    "# buildings = np.char.replace(buildings,\"\\\\\",\" \")"
   ]
  },
  {
   "cell_type": "code",
   "execution_count": null,
   "metadata": {},
   "outputs": [],
   "source": [
    "buildings.sort()\n"
   ]
  },
  {
   "cell_type": "code",
   "execution_count": null,
   "metadata": {
    "scrolled": true
   },
   "outputs": [],
   "source": [
    "buildings"
   ]
  },
  {
   "cell_type": "code",
   "execution_count": null,
   "metadata": {},
   "outputs": [],
   "source": [
    "csNames = ['Psy-Math Building', 'Psyc-Computer ', 'Psych-ComputerScience','Psych/Comp', \n",
    "           'Psych/Comp Science Building', 'Psych\\\\CS Building','Psychology Building', \n",
    "           'Psychology and Computer Science','Psychology-Computer Science', \n",
    "           'Psychology-Computer Science ','Psychology-Computer Science Building', \n",
    "           'Psychology/C.S. building', 'NIU Computer Science Building','computer science','psych-ComputerScience', \"PM\"]\n",
    "for i in csNames:\n",
    "    frame.loc[frame[\"building\"] == i,'building'] = \"CS\"\n",
    "foods = ['Chipotle','McDonalds','Panda House',\"Starbucks\",\"Tacobell\"]\n",
    "recreation = [\"Friend's House\",\"Mardi Gras Lanes\",\"Mollys\",\"NIU Student Recreation Center\",\"NIU Recreation Centre\",\n",
    "             'Rec Center', 'Recreation Center','Recreation centre', 'Recreational Center','Student Recreation Center',\n",
    "             'recreation center', 'recreational center','Campus Recreation Building', 'friends place']\n",
    "parking = ['Parking', 'Parking Garage','Parking Lot', 'Parking lot','NIU Parking Deck']\n",
    "holmes = ['holmes student center','Holmes Student Center','Holmes Students Center ']\n",
    "shopping = ['Walmart', 'Walmart, HyVee']\n",
    "williston = ['WI', 'Williston Hall', 'Willston hall']\n",
    "swen = ['Swen Parson', 'Swen Parson Hall']\n",
    "for i in foods:\n",
    "    frame.loc[frame[\"building\"] == i,'building'] = \"Food\"\n",
    "for i in recreation:\n",
    "    frame.loc[frame[\"building\"] == i,'building'] = \"Recreation\"\n",
    "for i in parking:\n",
    "    frame.loc[frame[\"building\"] == i,'building'] = \"Parking\"\n",
    "for i in holmes:\n",
    "    frame.loc[frame[\"building\"] == i,'building'] = \"Holmes\"\n",
    "for i in shopping:\n",
    "    frame.loc[frame[\"building\"] == i,'building'] = \"Shopping\"\n",
    "for i in williston:\n",
    "    frame.loc[frame[\"building\"] == i,'building'] = \"Williston\"\n",
    "for i in swen:\n",
    "    frame.loc[frame[\"building\"] == i,'building'] = \"Swen\""
   ]
  },
  {
   "cell_type": "code",
   "execution_count": null,
   "metadata": {},
   "outputs": [],
   "source": [
    "frame.loc[frame[\"building\"] == 'AD', 'building'] = \"Adams\"\n",
    "frame.loc[frame[\"building\"] == 'SH', 'building'] = \"Still\"\n",
    "frame.loc[frame[\"building\"] == 'CS Building', 'building'] = \"CS\"\n",
    "frame.loc[frame[\"building\"] == 'CS Building ', 'building'] = \"CS\"\n",
    "frame.loc[frame[\"building\"] == 'CS/Psych', 'building'] = \"CS\"\n",
    "frame.loc[frame[\"building\"] == 'CSCI', 'building'] = \"CS\"\n",
    "frame.loc[frame[\"building\"] == 'Computer Science Building', 'building'] = \"CS\"\n",
    "frame.loc[frame[\"building\"].str.lower() == 'computer science and psycology building', 'building'] = \"CS\"\n",
    "frame.loc[frame[\"building\"].str.lower() == 'computer science building', 'building'] = \"CS\"\n",
    "frame.loc[frame[\"building\"].str.lower() == 'faraday hall', 'building'] = \"Faraday\"\n",
    "frame.loc[frame[\"building\"].str.lower() == 'faraday', 'building'] = \"Faraday\"\n",
    "frame.loc[frame[\"building\"].str.lower() == 'farday hall', 'building'] = \"Faraday\"\n",
    "# frame.loc[frame[\"building\"].str.lower() == 'farday Hall', 'building'] = \"Faraday\"\n",
    "frame.loc[frame[\"building\"].str.lower() == 'engineering building', 'building'] = \"Engineering\"\n",
    "frame.loc[frame[\"building\"].str.lower() == 'engineering', 'building'] = \"Engineering\"\n",
    "frame.loc[frame[\"building\"] == 'Foundation Memorial Library', 'building'] = \"Library\"\n",
    "frame.loc[frame[\"building\"] == 'Founder Memorial Library', 'building'] = \"Library\"\n",
    "frame.loc[frame[\"building\"] == 'Founders Library', 'building'] = \"Library\"\n",
    "frame.loc[frame[\"building\"] == 'Founders Memorial Library', 'building'] = \"Library\"\n",
    "frame.loc[frame[\"building\"] == 'founders memorial library', 'building'] = \"Library\"\n",
    "frame.loc[frame[\"building\"].str.lower() == 'dusable', 'building'] = \"Dusable\"\n",
    "frame.loc[frame[\"building\"].str.lower() == 'dusable hall', 'building'] = \"Dusable\"\n",
    "frame.loc[frame[\"building\"].str.lower() == 'cole hall', 'building'] = \"Cole\"\n",
    "frame.loc[frame[\"building\"].str.lower() == 'gable hall', 'building'] = \"Gable\"\n",
    "frame.loc[frame[\"building\"].str.lower() == 'gilbert hall', 'building'] = \"Gilbert\"\n",
    "frame.loc[frame[\"building\"].str.lower() == 'gilbert dining hall', 'building'] = \"Gilbert\"\n",
    "frame.loc[frame[\"building\"] == 'gGraham Hall\\xa0', 'building'] = \"Graham\"\n",
    "frame.loc[frame[\"building\"] == 'Gurukrupa,Walmart', 'building'] = \"Walmart\"\n",
    "frame.loc[frame[\"building\"].str.lower() == 'dusable hall', 'building'] = \"Dusable\"\n",
    "frame.loc[frame[\"building\"].str.lower() == 'holmes students center', 'building'] = \"Holmes\"\n",
    "frame.loc[frame[\"building\"].str.lower() == 'home', 'building'] = \"Home\"\n",
    "frame.loc[frame[\"building\"].str.lower() == 'my house', 'building'] = \"Home\"\n",
    "frame.loc[frame[\"building\"].str.lower() == 'home', 'building'] = \"Home\"\n",
    "frame.loc[frame[\"building\"].str.lower() == 'adams hall', 'building'] = \"Adams\"\n",
    "frame.loc[frame[\"building\"].str.lower() == 'music building', 'building'] = \"Music\"\n",
    "frame.loc[frame[\"building\"] == 'NIU College of Business', 'building'] = \"Business\"\n",
    "frame.loc[frame[\"building\"] == 'NIU Health Services', 'building'] = \"Health Services\"\n",
    "\n",
    "\n",
    "\n",
    "\n",
    "\n",
    "frame.loc[frame[\"building\"] == 'Campus Life Building', 'building'] = \"Campus Life\"\n",
    "frame.loc[frame[\"building\"] == 'Campus Life Buliding', 'building'] = \"Campus Life\"\n"
   ]
  },
  {
   "cell_type": "code",
   "execution_count": null,
   "metadata": {},
   "outputs": [],
   "source": [
    "frame = frame.drop(frame[frame.building == \"Home\"].index)\n",
    "frame = frame.drop(frame[frame.building == \"Parking\"].index)\n",
    "frame = frame.drop(frame[frame.building == \"Shopping\"].index)"
   ]
  },
  {
   "cell_type": "code",
   "execution_count": null,
   "metadata": {},
   "outputs": [],
   "source": [
    "fig = plt.figure()\n",
    "frame_sorted = frame.groupby(\"building\").sum()\n",
    "ax = frame_sorted.plot.bar(title=\"Total Time Spent in Building\",figsize=(15,10),legend=False,rot=70,logy=True)\n",
    "ax = frame.unstack()[\"time_diff\"].plot.bar(title=\"Total Time Spent in Building\",figsize=(15,10),rot=0,stacked=True)\n",
    "ax.set_xlabel(\"Building\",labelpad=20)\n",
    "ax.set_ylabel(\"Total Time in Building [minutes]\",labelpad=20)\n",
    "plt.show()"
   ]
  },
  {
   "cell_type": "markdown",
   "metadata": {},
   "source": [
    "I did the same for the reasons column down here."
   ]
  },
  {
   "cell_type": "code",
   "execution_count": null,
   "metadata": {},
   "outputs": [],
   "source": [
    "reasons = frame.reason.unique()"
   ]
  },
  {
   "cell_type": "code",
   "execution_count": null,
   "metadata": {},
   "outputs": [],
   "source": [
    "reasons = reasons.astype(\"str\")\n",
    "reasons.sort()"
   ]
  },
  {
   "cell_type": "code",
   "execution_count": null,
   "metadata": {},
   "outputs": [],
   "source": [
    "reasons"
   ]
  },
  {
   "cell_type": "code",
   "execution_count": null,
   "metadata": {},
   "outputs": [],
   "source": [
    "frame.loc[frame[\"reason\"].str.lower() == 'work', 'reason'] = \"Work\""
   ]
  },
  {
   "cell_type": "code",
   "execution_count": null,
   "metadata": {},
   "outputs": [],
   "source": [
    "recreations = ['Badminton','Badminton and Table Tennis', 'Bowling','Checking the swimming pool', \n",
    "               'Chinese New Year Active', 'Exercise', 'Exercise/Sauna','Fitness', 'Flix and chill', 'Fresh-up',\n",
    "              'Gym','Gym and Ping pong', 'Gym and Volleyball', 'Hangout','Lawn Tennis and Badminton',\n",
    "              'Partying', 'Pick-up Friend','Ping pong','Playing Basketball','Rest', 'Robotic Club', 'Running, sauna',\n",
    "              'Shopping','Table Tennis', 'Table Tennis and Lawn Tennis','basketball', 'bowling', 'chill',\n",
    "              'coffee', 'exercise','hangout','rowing, sauna','running, sauna','work out', 'workout',\"Drop Friend\",\n",
    "               'Work-Out', 'Workout']"
   ]
  },
  {
   "cell_type": "code",
   "execution_count": null,
   "metadata": {},
   "outputs": [],
   "source": [
    "others = ['Health checkup', 'Health checkup, immunization','Grad','Medicine Re-Fill','OPT','Picked up the Underload Form at ISFO',\n",
    "         'Picked up the Underload Form from the CS dept', 'Printouts','Query about tuition fee', 'Sleep','back to CS building',\n",
    "         'get information about graduation/after graduation','going to Adams Hall', 'going to ISFO', 'going to parking',\n",
    "         'grab backpack', 'grab laptop', 'job hunting','reload niu one card', 'walk through','Submitted the underload Form at ISFO'\n",
    "         'Submitted the underload Form at ISFO','IRB','ISFO',\"Cleaning\"]"
   ]
  },
  {
   "cell_type": "code",
   "execution_count": null,
   "metadata": {},
   "outputs": [],
   "source": [
    "work = []\n",
    "for i in reasons:\n",
    "    if \"applied\" in i.lower() or \"assistantship\" in i.lower() or \"consultation\" in i.lower() or \"research\" in i.lower() or \"work\" in i.lower() or \"shift\" in i.lower() or \"ta\" in i.lower() or \"thesis\" in i.lower() or \"filled\" in i.lower() or \"meet\" in i.lower():\n",
    "        work.append(i)\n",
    "    \n",
    "classes = []\n",
    "for i in reasons:\n",
    "    if \"class\" in i.lower() or \"CSCI\" in i or \"STAT\" in i or \"'Information Storage and Retrieval\" in i or \"office\" in i.lower() or \"course\" in i.lower() or \"PM 254\" in i or \"data vis\" in i.lower() or \"data\" in i.lower() or \"date vis\" in i.lower() or \"python\" in i.lower():\n",
    "        classes.append(i)\n",
    "        \n",
    "# meetings = []\n",
    "# for i in reasons:\n",
    "#     if \"meet\" in i.lower():\n",
    "#         meetings.append(i)\n",
    "        \n",
    "hw = []\n",
    "for i in reasons:\n",
    "    if \"homework\" in i.lower() or \"hw\" in i.lower() or \"study\" in i.lower() or \"assignment\" in i.lower():\n",
    "        hw.append(i)\n",
    "        \n",
    "food = []\n",
    "for i in reasons:\n",
    "    if \"food\" in i.lower() or \"lunch\" in i.lower() or \"dinner\" in i.lower() or \"cook\" in i.lower() or \"breakfast\" in i.lower() or \"coffee\" in i.lower():\n",
    "        food.append(i)\n",
    "        \n",
    "# others = []\n",
    "for i in reasons:\n",
    "    if \"go to\" in i.lower():\n",
    "        others.append(i)"
   ]
  },
  {
   "cell_type": "code",
   "execution_count": null,
   "metadata": {},
   "outputs": [],
   "source": [
    "# classes\n",
    "# meetings\n",
    "# hw\n",
    "# food\n"
   ]
  },
  {
   "cell_type": "code",
   "execution_count": null,
   "metadata": {},
   "outputs": [],
   "source": [
    "# classes = ['CSCI 502',\n",
    "#        'CSCI 503', 'CSCI 503 & CSCI 602', 'CSCI 512', 'CSCI 522',\n",
    "#        'CSCI 522 class', 'CSCI 602', 'CSCI 602 class', 'CSCI 627',\n",
    "#        'CSCI 627 class', 'CSCI 627, lecture', 'CSCI 642',\n",
    "#        'CSCI-627 Class', 'CSCI-627, lecture',\n",
    "#        'CSCI-642','CSCI602 Class',\n",
    "#        'CSCI627 Class','Computer Networks Class']\n",
    "\n",
    "for i in work:\n",
    "    frame.loc[frame[\"reason\"] == i,'reason'] = \"Work\"\n",
    "for i in classes:\n",
    "    frame.loc[frame[\"reason\"] == i,'reason'] = \"Class\"\n",
    "for i in recreations:\n",
    "    frame.loc[frame[\"reason\"] == i,'reason'] = \"Fun\"\n",
    "# for i in meetings:\n",
    "#     frame.loc[frame[\"reason\"] == i,'reason'] = \"Meeting\"\n",
    "for i in hw:\n",
    "    frame.loc[frame[\"reason\"] == i,'reason'] = \"Homework/Study\"\n",
    "for i in food:\n",
    "    frame.loc[frame[\"reason\"] == i,'reason'] = \"Food\"\n",
    "for i in others:\n",
    "    frame.loc[frame[\"reason\"] == i,'reason'] = \"Other\""
   ]
  },
  {
   "cell_type": "markdown",
   "metadata": {},
   "source": [
    "Now I can check the consistency of the building and the reason columns by plotting the data and checking for inconsistencies."
   ]
  },
  {
   "cell_type": "code",
   "execution_count": null,
   "metadata": {},
   "outputs": [],
   "source": [
    "fig = plt.figure()\n",
    "frame_sorted = frame.groupby([\"building\",\"reason\"]).sum()\n",
    "# ax = frame_sorted.plot.bar(title=\"Total Time Spent in Building\",figsize=(15,10),legend=False,rot=70,logy=True)\n",
    "ax = frame_sorted.unstack()[\"time_diff\"].plot.bar(title=\"Total Time Spent in Building\",figsize=(15,10),rot=70,stacked=True,logy=True)\n",
    "ax.set_xlabel(\"Building\",labelpad=20)\n",
    "ax.set_ylabel(\"Total Time in Building [minutes]\",labelpad=20)\n",
    "plt.legend(title=\"Reason\")\n",
    "plt.show()"
   ]
  },
  {
   "cell_type": "code",
   "execution_count": null,
   "metadata": {},
   "outputs": [],
   "source": [
    "frame_sorted.to_csv(\"Data/Massaged_Data/Final_Sorted_Data.csv\")"
   ]
  },
  {
   "cell_type": "code",
   "execution_count": null,
   "metadata": {},
   "outputs": [],
   "source": []
  },
  {
   "cell_type": "code",
   "execution_count": null,
   "metadata": {},
   "outputs": [],
   "source": []
  },
  {
   "cell_type": "code",
   "execution_count": null,
   "metadata": {},
   "outputs": [],
   "source": []
  },
  {
   "cell_type": "markdown",
   "metadata": {},
   "source": [
    "Final Plot!!"
   ]
  },
  {
   "cell_type": "code",
   "execution_count": 2,
   "metadata": {},
   "outputs": [],
   "source": [
    "final_df = pd.read_csv(\"Data/Massaged_Data/Final_Sorted_Data.csv\")"
   ]
  },
  {
   "cell_type": "code",
   "execution_count": 3,
   "metadata": {},
   "outputs": [
    {
     "data": {
      "text/plain": [
       "<Figure size 432x288 with 0 Axes>"
      ]
     },
     "metadata": {},
     "output_type": "display_data"
    },
    {
     "data": {
      "image/png": "[encoded data removed]",
      "text/plain": [
       "<Figure size 1080x720 with 1 Axes>"
      ]
     },
     "metadata": {
      "needs_background": "light"
     },
     "output_type": "display_data"
    }
   ],
   "source": [
    "fig = plt.figure()\n",
    "frame_sorted = final_df.groupby([\"building\",\"reason\"]).sum()\n",
    "# ax = frame_sorted.plot.bar(title=\"Total Time Spent in Building\",figsize=(15,10),legend=False,rot=70,logy=True)\n",
    "ax = frame_sorted.unstack()[\"time_diff\"].plot.bar(title=\"Total Time Spent in Building\",figsize=(15,10),rot=70,stacked=True,logy=True)\n",
    "ax.set_xlabel(\"Building\",labelpad=20)\n",
    "ax.set_ylabel(\"Total Time in Building [minutes]\",labelpad=20)\n",
    "ax.set_ylim(1,100000)\n",
    "plt.legend(title=\"Reason\")\n",
    "plt.show()"
   ]
  },
  {
   "cell_type": "code",
   "execution_count": 4,
   "metadata": {},
   "outputs": [],
   "source": [
    "fig = ax.get_figure()\n",
    "fig.savefig('Project00_Phase01_Plot.png')"
   ]
  },
  {
   "cell_type": "code",
   "execution_count": null,
   "metadata": {},
   "outputs": [],
   "source": []
  }
 ],
 "metadata": {
  "kernelspec": {
   "display_name": "Python 3",
   "language": "python",
   "name": "python3"
  },
  "language_info": {
   "codemirror_mode": {
    "name": "ipython",
    "version": 3
   },
   "file_extension": ".py",
   "mimetype": "text/x-python",
   "name": "python",
   "nbconvert_exporter": "python",
   "pygments_lexer": "ipython3",
   "version": "3.6.6"
  }
 },
 "nbformat": 4,
 "nbformat_minor": 2
}
